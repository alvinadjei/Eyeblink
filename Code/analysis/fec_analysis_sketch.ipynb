{
 "cells": [
  {
   "cell_type": "code",
   "execution_count": 1,
   "metadata": {},
   "outputs": [],
   "source": [
    "# import dependencies\n",
    "import numpy as np\n",
    "import pandas as pd\n",
    "import matplotlib.pyplot as plt"
   ]
  },
  {
   "cell_type": "markdown",
   "metadata": {},
   "source": [
    "## Load and configure FEC and CS timestamp data as dataframe"
   ]
  },
  {
   "cell_type": "code",
   "execution_count": 2,
   "metadata": {},
   "outputs": [],
   "source": [
    "df_fec = pd.read_csv(\"../FEC/mouse_0_fec.csv\")  # df containing eyeblink fraction info\n",
    "df_cs = pd.read_csv(\"../stim/mouse_0_stim.csv\")  # df containing timestamp of CS for each trial"
   ]
  },
  {
   "cell_type": "code",
   "execution_count": 3,
   "metadata": {},
   "outputs": [
    {
     "name": "stdout",
     "output_type": "stream",
     "text": [
      "12584\n"
     ]
    },
    {
     "data": {
      "text/html": [
       "<div>\n",
       "<style scoped>\n",
       "    .dataframe tbody tr th:only-of-type {\n",
       "        vertical-align: middle;\n",
       "    }\n",
       "\n",
       "    .dataframe tbody tr th {\n",
       "        vertical-align: top;\n",
       "    }\n",
       "\n",
       "    .dataframe thead th {\n",
       "        text-align: right;\n",
       "    }\n",
       "</style>\n",
       "<table border=\"1\" class=\"dataframe\">\n",
       "  <thead>\n",
       "    <tr style=\"text-align: right;\">\n",
       "      <th></th>\n",
       "      <th>Current Timestamp</th>\n",
       "      <th>Trial #</th>\n",
       "      <th>FEC</th>\n",
       "    </tr>\n",
       "  </thead>\n",
       "  <tbody>\n",
       "    <tr>\n",
       "      <th>0</th>\n",
       "      <td>5.252085e+08</td>\n",
       "      <td>0.0</td>\n",
       "      <td>0.455163</td>\n",
       "    </tr>\n",
       "    <tr>\n",
       "      <th>1</th>\n",
       "      <td>5.252085e+08</td>\n",
       "      <td>0.0</td>\n",
       "      <td>0.455163</td>\n",
       "    </tr>\n",
       "    <tr>\n",
       "      <th>2</th>\n",
       "      <td>5.252085e+08</td>\n",
       "      <td>0.0</td>\n",
       "      <td>0.455163</td>\n",
       "    </tr>\n",
       "    <tr>\n",
       "      <th>3</th>\n",
       "      <td>5.252085e+08</td>\n",
       "      <td>0.0</td>\n",
       "      <td>0.455163</td>\n",
       "    </tr>\n",
       "    <tr>\n",
       "      <th>4</th>\n",
       "      <td>5.252085e+08</td>\n",
       "      <td>0.0</td>\n",
       "      <td>0.455163</td>\n",
       "    </tr>\n",
       "  </tbody>\n",
       "</table>\n",
       "</div>"
      ],
      "text/plain": [
       "   Current Timestamp  Trial #       FEC\n",
       "0       5.252085e+08      0.0  0.455163\n",
       "1       5.252085e+08      0.0  0.455163\n",
       "2       5.252085e+08      0.0  0.455163\n",
       "3       5.252085e+08      0.0  0.455163\n",
       "4       5.252085e+08      0.0  0.455163"
      ]
     },
     "execution_count": 3,
     "metadata": {},
     "output_type": "execute_result"
    }
   ],
   "source": [
    "print(len(df_fec))\n",
    "df_fec.head()"
   ]
  },
  {
   "cell_type": "code",
   "execution_count": 4,
   "metadata": {},
   "outputs": [
    {
     "name": "stdout",
     "output_type": "stream",
     "text": [
      "1\n"
     ]
    },
    {
     "data": {
      "text/html": [
       "<div>\n",
       "<style scoped>\n",
       "    .dataframe tbody tr th:only-of-type {\n",
       "        vertical-align: middle;\n",
       "    }\n",
       "\n",
       "    .dataframe tbody tr th {\n",
       "        vertical-align: top;\n",
       "    }\n",
       "\n",
       "    .dataframe thead th {\n",
       "        text-align: right;\n",
       "    }\n",
       "</style>\n",
       "<table border=\"1\" class=\"dataframe\">\n",
       "  <thead>\n",
       "    <tr style=\"text-align: right;\">\n",
       "      <th></th>\n",
       "      <th>Trial #</th>\n",
       "      <th>CS Timestamp</th>\n",
       "    </tr>\n",
       "  </thead>\n",
       "  <tbody>\n",
       "    <tr>\n",
       "      <th>0</th>\n",
       "      <td>0.0</td>\n",
       "      <td>5.252086e+08</td>\n",
       "    </tr>\n",
       "  </tbody>\n",
       "</table>\n",
       "</div>"
      ],
      "text/plain": [
       "   Trial #  CS Timestamp\n",
       "0      0.0  5.252086e+08"
      ]
     },
     "execution_count": 4,
     "metadata": {},
     "output_type": "execute_result"
    }
   ],
   "source": [
    "print(len(df_cs))\n",
    "df_cs.head()"
   ]
  },
  {
   "cell_type": "markdown",
   "metadata": {},
   "source": [
    "### Combine dataframes "
   ]
  },
  {
   "cell_type": "code",
   "execution_count": 5,
   "metadata": {},
   "outputs": [
    {
     "data": {
      "text/html": [
       "<div>\n",
       "<style scoped>\n",
       "    .dataframe tbody tr th:only-of-type {\n",
       "        vertical-align: middle;\n",
       "    }\n",
       "\n",
       "    .dataframe tbody tr th {\n",
       "        vertical-align: top;\n",
       "    }\n",
       "\n",
       "    .dataframe thead th {\n",
       "        text-align: right;\n",
       "    }\n",
       "</style>\n",
       "<table border=\"1\" class=\"dataframe\">\n",
       "  <thead>\n",
       "    <tr style=\"text-align: right;\">\n",
       "      <th></th>\n",
       "      <th>Current Timestamp</th>\n",
       "      <th>Trial #</th>\n",
       "      <th>FEC</th>\n",
       "      <th>CS Timestamp</th>\n",
       "    </tr>\n",
       "  </thead>\n",
       "  <tbody>\n",
       "    <tr>\n",
       "      <th>0</th>\n",
       "      <td>5.252085e+08</td>\n",
       "      <td>0</td>\n",
       "      <td>0.455163</td>\n",
       "      <td>5.252086e+08</td>\n",
       "    </tr>\n",
       "    <tr>\n",
       "      <th>1</th>\n",
       "      <td>5.252085e+08</td>\n",
       "      <td>0</td>\n",
       "      <td>0.455163</td>\n",
       "      <td>5.252086e+08</td>\n",
       "    </tr>\n",
       "    <tr>\n",
       "      <th>2</th>\n",
       "      <td>5.252085e+08</td>\n",
       "      <td>0</td>\n",
       "      <td>0.455163</td>\n",
       "      <td>5.252086e+08</td>\n",
       "    </tr>\n",
       "    <tr>\n",
       "      <th>3</th>\n",
       "      <td>5.252085e+08</td>\n",
       "      <td>0</td>\n",
       "      <td>0.455163</td>\n",
       "      <td>5.252086e+08</td>\n",
       "    </tr>\n",
       "    <tr>\n",
       "      <th>4</th>\n",
       "      <td>5.252085e+08</td>\n",
       "      <td>0</td>\n",
       "      <td>0.455163</td>\n",
       "      <td>5.252086e+08</td>\n",
       "    </tr>\n",
       "  </tbody>\n",
       "</table>\n",
       "</div>"
      ],
      "text/plain": [
       "   Current Timestamp  Trial #       FEC  CS Timestamp\n",
       "0       5.252085e+08        0  0.455163  5.252086e+08\n",
       "1       5.252085e+08        0  0.455163  5.252086e+08\n",
       "2       5.252085e+08        0  0.455163  5.252086e+08\n",
       "3       5.252085e+08        0  0.455163  5.252086e+08\n",
       "4       5.252085e+08        0  0.455163  5.252086e+08"
      ]
     },
     "execution_count": 5,
     "metadata": {},
     "output_type": "execute_result"
    }
   ],
   "source": [
    "# Merge the dataframes based on the 'Trial #' column\n",
    "merged_df = pd.merge(df_fec, df_cs, on='Trial #', how='left')\n",
    "merged_df['Trial #'] = merged_df['Trial #'].astype(int)  # convert trial # to integer value\n",
    "merged_df.head()"
   ]
  },
  {
   "cell_type": "markdown",
   "metadata": {},
   "source": [
    "## Recreate graph of \"FEC vs. Time from CS onset\" from the paper"
   ]
  },
  {
   "cell_type": "code",
   "execution_count": 8,
   "metadata": {},
   "outputs": [
    {
     "data": {
      "text/html": [
       "<div>\n",
       "<style scoped>\n",
       "    .dataframe tbody tr th:only-of-type {\n",
       "        vertical-align: middle;\n",
       "    }\n",
       "\n",
       "    .dataframe tbody tr th {\n",
       "        vertical-align: top;\n",
       "    }\n",
       "\n",
       "    .dataframe thead th {\n",
       "        text-align: right;\n",
       "    }\n",
       "</style>\n",
       "<table border=\"1\" class=\"dataframe\">\n",
       "  <thead>\n",
       "    <tr style=\"text-align: right;\">\n",
       "      <th></th>\n",
       "      <th>Current Timestamp</th>\n",
       "      <th>Trial #</th>\n",
       "      <th>FEC</th>\n",
       "      <th>CS Timestamp</th>\n",
       "    </tr>\n",
       "  </thead>\n",
       "  <tbody>\n",
       "    <tr>\n",
       "      <th>657</th>\n",
       "      <td>5.252086e+08</td>\n",
       "      <td>0</td>\n",
       "      <td>0.455163</td>\n",
       "      <td>5.252086e+08</td>\n",
       "    </tr>\n",
       "    <tr>\n",
       "      <th>658</th>\n",
       "      <td>5.252086e+08</td>\n",
       "      <td>0</td>\n",
       "      <td>0.455163</td>\n",
       "      <td>5.252086e+08</td>\n",
       "    </tr>\n",
       "    <tr>\n",
       "      <th>659</th>\n",
       "      <td>5.252086e+08</td>\n",
       "      <td>0</td>\n",
       "      <td>0.455163</td>\n",
       "      <td>5.252086e+08</td>\n",
       "    </tr>\n",
       "    <tr>\n",
       "      <th>660</th>\n",
       "      <td>5.252086e+08</td>\n",
       "      <td>0</td>\n",
       "      <td>0.455163</td>\n",
       "      <td>5.252086e+08</td>\n",
       "    </tr>\n",
       "    <tr>\n",
       "      <th>661</th>\n",
       "      <td>5.252086e+08</td>\n",
       "      <td>0</td>\n",
       "      <td>0.455163</td>\n",
       "      <td>5.252086e+08</td>\n",
       "    </tr>\n",
       "  </tbody>\n",
       "</table>\n",
       "</div>"
      ],
      "text/plain": [
       "     Current Timestamp  Trial #       FEC  CS Timestamp\n",
       "657       5.252086e+08        0  0.455163  5.252086e+08\n",
       "658       5.252086e+08        0  0.455163  5.252086e+08\n",
       "659       5.252086e+08        0  0.455163  5.252086e+08\n",
       "660       5.252086e+08        0  0.455163  5.252086e+08\n",
       "661       5.252086e+08        0  0.455163  5.252086e+08"
      ]
     },
     "execution_count": 8,
     "metadata": {},
     "output_type": "execute_result"
    }
   ],
   "source": [
    "filter = (merged_df['Current Timestamp'] >= merged_df['CS Timestamp'])\n",
    "df = merged_df[filter]\n",
    "df.head()"
   ]
  },
  {
   "cell_type": "code",
   "execution_count": 9,
   "metadata": {},
   "outputs": [
    {
     "data": {
      "image/png": "[encoded data removed]",
      "text/plain": [
       "<Figure size 576x360 with 1 Axes>"
      ]
     },
     "metadata": {
      "needs_background": "light"
     },
     "output_type": "display_data"
    }
   ],
   "source": [
    "# Create plot\n",
    "plt.figure(figsize=(8, 5))\n",
    "plt.scatter(df['Current Timestamp'], df['FEC'], color='red', label='Scatter Plot')\n",
    "\n",
    "plt.xlabel('Time from CS Onset')\n",
    "plt.ylabel('Fraction Eyelid Closure')\n",
    "plt.title('FEC vs Time from CS Onset')\n",
    "plt.legend()\n",
    "plt.grid(True)\n",
    "plt.show()"
   ]
  },
  {
   "cell_type": "code",
   "execution_count": null,
   "metadata": {},
   "outputs": [],
   "source": []
  }
 ],
 "metadata": {
  "kernelspec": {
   "display_name": ".venv-mac",
   "language": "python",
   "name": "python3"
  },
  "language_info": {
   "codemirror_mode": {
    "name": "ipython",
    "version": 3
   },
   "file_extension": ".py",
   "mimetype": "text/x-python",
   "name": "python",
   "nbconvert_exporter": "python",
   "pygments_lexer": "ipython3",
   "version": "3.10.1"
  }
 },
 "nbformat": 4,
 "nbformat_minor": 4
}
