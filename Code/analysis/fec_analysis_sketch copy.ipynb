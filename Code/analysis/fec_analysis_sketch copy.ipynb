{
 "cells": [
  {
   "cell_type": "code",
   "execution_count": 1,
   "metadata": {},
   "outputs": [],
   "source": [
    "# import dependencies\n",
    "import numpy as np\n",
    "import pandas as pd\n",
    "import matplotlib.pyplot as plt"
   ]
  },
  {
   "cell_type": "markdown",
   "metadata": {},
   "source": [
    "## Load and configure FEC and CS timestamp data as dataframe"
   ]
  },
  {
   "cell_type": "code",
   "execution_count": 2,
   "metadata": {},
   "outputs": [],
   "source": [
    "df_fec = pd.read_csv(\"../../Data/FEC/mouse_0_fec_2025-04-21_14-20-04.csv\")  # df containing eyeblink fraction data\n",
    "df_cs = pd.read_csv(\"../../Data/stim/mouse_0_stim_2025-04-21_14-20-04.csv\")  # df containing timestamp of CS for each trial\n",
    "\n",
    "# Convert Trial #'s to ints\n",
    "df_fec[\"Trial #\"] = df_fec[\"Trial #\"].astype(int)\n",
    "df_cs[\"Trial #\"] = df_cs[\"Trial #\"].astype(int)\n",
    "\n",
    "# Convert timestamp strings to datetime\n",
    "df_fec[\"Timestamp\"] = pd.to_datetime(df_fec[\"Timestamp\"])\n",
    "df_cs[\"CS Timestamp\"] = pd.to_datetime(df_cs[\"CS Timestamp\"])\n",
    "# Convert FEC values to floats\n",
    "df_fec[\"FEC\"] = df_fec[\"FEC\"].astype(float)\n",
    "\n",
    "# Convert Airpuff strings to bool\n",
    "df_cs[\"Airpuff\"] = df_cs[\"Airpuff\"].astype(bool)"
   ]
  },
  {
   "cell_type": "code",
   "execution_count": 3,
   "metadata": {},
   "outputs": [
    {
     "name": "stdout",
     "output_type": "stream",
     "text": [
      "838\n"
     ]
    },
    {
     "data": {
      "text/html": [
       "<div>\n",
       "<style scoped>\n",
       "    .dataframe tbody tr th:only-of-type {\n",
       "        vertical-align: middle;\n",
       "    }\n",
       "\n",
       "    .dataframe tbody tr th {\n",
       "        vertical-align: top;\n",
       "    }\n",
       "\n",
       "    .dataframe thead th {\n",
       "        text-align: right;\n",
       "    }\n",
       "</style>\n",
       "<table border=\"1\" class=\"dataframe\">\n",
       "  <thead>\n",
       "    <tr style=\"text-align: right;\">\n",
       "      <th></th>\n",
       "      <th>Timestamp</th>\n",
       "      <th>Trial #</th>\n",
       "      <th>FEC</th>\n",
       "    </tr>\n",
       "  </thead>\n",
       "  <tbody>\n",
       "    <tr>\n",
       "      <th>0</th>\n",
       "      <td>2025-04-21 14:19:27.759844</td>\n",
       "      <td>1</td>\n",
       "      <td>0.148032</td>\n",
       "    </tr>\n",
       "    <tr>\n",
       "      <th>1</th>\n",
       "      <td>2025-04-21 14:19:27.803990</td>\n",
       "      <td>1</td>\n",
       "      <td>0.149052</td>\n",
       "    </tr>\n",
       "    <tr>\n",
       "      <th>2</th>\n",
       "      <td>2025-04-21 14:19:27.837539</td>\n",
       "      <td>1</td>\n",
       "      <td>0.148922</td>\n",
       "    </tr>\n",
       "    <tr>\n",
       "      <th>3</th>\n",
       "      <td>2025-04-21 14:19:27.880136</td>\n",
       "      <td>1</td>\n",
       "      <td>0.148779</td>\n",
       "    </tr>\n",
       "    <tr>\n",
       "      <th>4</th>\n",
       "      <td>2025-04-21 14:19:27.929688</td>\n",
       "      <td>1</td>\n",
       "      <td>0.148377</td>\n",
       "    </tr>\n",
       "  </tbody>\n",
       "</table>\n",
       "</div>"
      ],
      "text/plain": [
       "                   Timestamp  Trial #       FEC\n",
       "0 2025-04-21 14:19:27.759844        1  0.148032\n",
       "1 2025-04-21 14:19:27.803990        1  0.149052\n",
       "2 2025-04-21 14:19:27.837539        1  0.148922\n",
       "3 2025-04-21 14:19:27.880136        1  0.148779\n",
       "4 2025-04-21 14:19:27.929688        1  0.148377"
      ]
     },
     "execution_count": 3,
     "metadata": {},
     "output_type": "execute_result"
    }
   ],
   "source": [
    "print(len(df_fec))\n",
    "df_fec.head()"
   ]
  },
  {
   "cell_type": "code",
   "execution_count": 4,
   "metadata": {},
   "outputs": [
    {
     "name": "stdout",
     "output_type": "stream",
     "text": [
      "3\n"
     ]
    },
    {
     "data": {
      "text/html": [
       "<div>\n",
       "<style scoped>\n",
       "    .dataframe tbody tr th:only-of-type {\n",
       "        vertical-align: middle;\n",
       "    }\n",
       "\n",
       "    .dataframe tbody tr th {\n",
       "        vertical-align: top;\n",
       "    }\n",
       "\n",
       "    .dataframe thead th {\n",
       "        text-align: right;\n",
       "    }\n",
       "</style>\n",
       "<table border=\"1\" class=\"dataframe\">\n",
       "  <thead>\n",
       "    <tr style=\"text-align: right;\">\n",
       "      <th></th>\n",
       "      <th>Trial #</th>\n",
       "      <th>CS Timestamp</th>\n",
       "      <th>Airpuff</th>\n",
       "    </tr>\n",
       "  </thead>\n",
       "  <tbody>\n",
       "    <tr>\n",
       "      <th>0</th>\n",
       "      <td>1</td>\n",
       "      <td>2025-04-21 14:19:27.781828</td>\n",
       "      <td>True</td>\n",
       "    </tr>\n",
       "    <tr>\n",
       "      <th>1</th>\n",
       "      <td>2</td>\n",
       "      <td>2025-04-21 14:19:46.634751</td>\n",
       "      <td>True</td>\n",
       "    </tr>\n",
       "    <tr>\n",
       "      <th>2</th>\n",
       "      <td>3</td>\n",
       "      <td>2025-04-21 14:19:59.879470</td>\n",
       "      <td>True</td>\n",
       "    </tr>\n",
       "  </tbody>\n",
       "</table>\n",
       "</div>"
      ],
      "text/plain": [
       "   Trial #               CS Timestamp  Airpuff\n",
       "0        1 2025-04-21 14:19:27.781828     True\n",
       "1        2 2025-04-21 14:19:46.634751     True\n",
       "2        3 2025-04-21 14:19:59.879470     True"
      ]
     },
     "execution_count": 4,
     "metadata": {},
     "output_type": "execute_result"
    }
   ],
   "source": [
    "print(len(df_cs))\n",
    "df_cs.head()"
   ]
  },
  {
   "cell_type": "markdown",
   "metadata": {},
   "source": [
    "### Combine dataframes "
   ]
  },
  {
   "cell_type": "code",
   "execution_count": 5,
   "metadata": {},
   "outputs": [
    {
     "data": {
      "text/html": [
       "<div>\n",
       "<style scoped>\n",
       "    .dataframe tbody tr th:only-of-type {\n",
       "        vertical-align: middle;\n",
       "    }\n",
       "\n",
       "    .dataframe tbody tr th {\n",
       "        vertical-align: top;\n",
       "    }\n",
       "\n",
       "    .dataframe thead th {\n",
       "        text-align: right;\n",
       "    }\n",
       "</style>\n",
       "<table border=\"1\" class=\"dataframe\">\n",
       "  <thead>\n",
       "    <tr style=\"text-align: right;\">\n",
       "      <th></th>\n",
       "      <th>Timestamp</th>\n",
       "      <th>Trial #</th>\n",
       "      <th>FEC</th>\n",
       "      <th>CS Timestamp</th>\n",
       "      <th>Airpuff</th>\n",
       "      <th>Relative Timestamp</th>\n",
       "    </tr>\n",
       "  </thead>\n",
       "  <tbody>\n",
       "    <tr>\n",
       "      <th>0</th>\n",
       "      <td>2025-04-21 14:19:27.759844</td>\n",
       "      <td>1</td>\n",
       "      <td>0.148032</td>\n",
       "      <td>2025-04-21 14:19:27.781828</td>\n",
       "      <td>True</td>\n",
       "      <td>-21.984</td>\n",
       "    </tr>\n",
       "    <tr>\n",
       "      <th>1</th>\n",
       "      <td>2025-04-21 14:19:27.803990</td>\n",
       "      <td>1</td>\n",
       "      <td>0.149052</td>\n",
       "      <td>2025-04-21 14:19:27.781828</td>\n",
       "      <td>True</td>\n",
       "      <td>22.162</td>\n",
       "    </tr>\n",
       "    <tr>\n",
       "      <th>2</th>\n",
       "      <td>2025-04-21 14:19:27.837539</td>\n",
       "      <td>1</td>\n",
       "      <td>0.148922</td>\n",
       "      <td>2025-04-21 14:19:27.781828</td>\n",
       "      <td>True</td>\n",
       "      <td>55.711</td>\n",
       "    </tr>\n",
       "    <tr>\n",
       "      <th>3</th>\n",
       "      <td>2025-04-21 14:19:27.880136</td>\n",
       "      <td>1</td>\n",
       "      <td>0.148779</td>\n",
       "      <td>2025-04-21 14:19:27.781828</td>\n",
       "      <td>True</td>\n",
       "      <td>98.308</td>\n",
       "    </tr>\n",
       "    <tr>\n",
       "      <th>4</th>\n",
       "      <td>2025-04-21 14:19:27.929688</td>\n",
       "      <td>1</td>\n",
       "      <td>0.148377</td>\n",
       "      <td>2025-04-21 14:19:27.781828</td>\n",
       "      <td>True</td>\n",
       "      <td>147.860</td>\n",
       "    </tr>\n",
       "  </tbody>\n",
       "</table>\n",
       "</div>"
      ],
      "text/plain": [
       "                   Timestamp  Trial #       FEC               CS Timestamp  \\\n",
       "0 2025-04-21 14:19:27.759844        1  0.148032 2025-04-21 14:19:27.781828   \n",
       "1 2025-04-21 14:19:27.803990        1  0.149052 2025-04-21 14:19:27.781828   \n",
       "2 2025-04-21 14:19:27.837539        1  0.148922 2025-04-21 14:19:27.781828   \n",
       "3 2025-04-21 14:19:27.880136        1  0.148779 2025-04-21 14:19:27.781828   \n",
       "4 2025-04-21 14:19:27.929688        1  0.148377 2025-04-21 14:19:27.781828   \n",
       "\n",
       "   Airpuff  Relative Timestamp  \n",
       "0     True             -21.984  \n",
       "1     True              22.162  \n",
       "2     True              55.711  \n",
       "3     True              98.308  \n",
       "4     True             147.860  "
      ]
     },
     "execution_count": 5,
     "metadata": {},
     "output_type": "execute_result"
    }
   ],
   "source": [
    "# Merge the dataframes based on the 'Trial #' column\n",
    "merged_df = pd.merge(df_fec, df_cs, on='Trial #', how='left')\n",
    "\n",
    "# Calculate timestamps relative to CS onset\n",
    "merged_df[\"Relative Timestamp\"] = pd.to_timedelta(merged_df[\"Timestamp\"] - merged_df[\"CS Timestamp\"])  # calc and convert to timedeltas\n",
    "merged_df[\"Relative Timestamp\"] = merged_df[\"Relative Timestamp\"].dt.total_seconds() * 1000  # convert to milliseconds\n",
    "merged_df.head()"
   ]
  },
  {
   "cell_type": "markdown",
   "metadata": {},
   "source": [
    "## Recreate graph of \"FEC vs. Time from CS onset\" from the paper"
   ]
  },
  {
   "cell_type": "code",
   "execution_count": 6,
   "metadata": {},
   "outputs": [
    {
     "data": {
      "text/html": [
       "<div>\n",
       "<style scoped>\n",
       "    .dataframe tbody tr th:only-of-type {\n",
       "        vertical-align: middle;\n",
       "    }\n",
       "\n",
       "    .dataframe tbody tr th {\n",
       "        vertical-align: top;\n",
       "    }\n",
       "\n",
       "    .dataframe thead th {\n",
       "        text-align: right;\n",
       "    }\n",
       "</style>\n",
       "<table border=\"1\" class=\"dataframe\">\n",
       "  <thead>\n",
       "    <tr style=\"text-align: right;\">\n",
       "      <th></th>\n",
       "      <th>Timestamp</th>\n",
       "      <th>Trial #</th>\n",
       "      <th>FEC</th>\n",
       "      <th>CS Timestamp</th>\n",
       "      <th>Airpuff</th>\n",
       "      <th>Relative Timestamp</th>\n",
       "    </tr>\n",
       "  </thead>\n",
       "  <tbody>\n",
       "    <tr>\n",
       "      <th>421</th>\n",
       "      <td>2025-04-21 14:19:46.177438</td>\n",
       "      <td>1</td>\n",
       "      <td>0.138642</td>\n",
       "      <td>2025-04-21 14:19:27.781828</td>\n",
       "      <td>True</td>\n",
       "      <td>18395.610</td>\n",
       "    </tr>\n",
       "    <tr>\n",
       "      <th>422</th>\n",
       "      <td>2025-04-21 14:19:46.208862</td>\n",
       "      <td>1</td>\n",
       "      <td>0.139188</td>\n",
       "      <td>2025-04-21 14:19:27.781828</td>\n",
       "      <td>True</td>\n",
       "      <td>18427.034</td>\n",
       "    </tr>\n",
       "    <tr>\n",
       "      <th>423</th>\n",
       "      <td>2025-04-21 14:19:46.255794</td>\n",
       "      <td>1</td>\n",
       "      <td>0.140178</td>\n",
       "      <td>2025-04-21 14:19:27.781828</td>\n",
       "      <td>True</td>\n",
       "      <td>18473.966</td>\n",
       "    </tr>\n",
       "    <tr>\n",
       "      <th>424</th>\n",
       "      <td>2025-04-21 14:19:46.302410</td>\n",
       "      <td>1</td>\n",
       "      <td>0.138972</td>\n",
       "      <td>2025-04-21 14:19:27.781828</td>\n",
       "      <td>True</td>\n",
       "      <td>18520.582</td>\n",
       "    </tr>\n",
       "    <tr>\n",
       "      <th>425</th>\n",
       "      <td>2025-04-21 14:19:46.349243</td>\n",
       "      <td>1</td>\n",
       "      <td>0.138987</td>\n",
       "      <td>2025-04-21 14:19:27.781828</td>\n",
       "      <td>True</td>\n",
       "      <td>18567.415</td>\n",
       "    </tr>\n",
       "  </tbody>\n",
       "</table>\n",
       "</div>"
      ],
      "text/plain": [
       "                     Timestamp  Trial #       FEC               CS Timestamp  \\\n",
       "421 2025-04-21 14:19:46.177438        1  0.138642 2025-04-21 14:19:27.781828   \n",
       "422 2025-04-21 14:19:46.208862        1  0.139188 2025-04-21 14:19:27.781828   \n",
       "423 2025-04-21 14:19:46.255794        1  0.140178 2025-04-21 14:19:27.781828   \n",
       "424 2025-04-21 14:19:46.302410        1  0.138972 2025-04-21 14:19:27.781828   \n",
       "425 2025-04-21 14:19:46.349243        1  0.138987 2025-04-21 14:19:27.781828   \n",
       "\n",
       "     Airpuff  Relative Timestamp  \n",
       "421     True           18395.610  \n",
       "422     True           18427.034  \n",
       "423     True           18473.966  \n",
       "424     True           18520.582  \n",
       "425     True           18567.415  "
      ]
     },
     "execution_count": 6,
     "metadata": {},
     "output_type": "execute_result"
    }
   ],
   "source": [
    "filter = (merged_df['Relative Timestamp'] >= 0) & (merged_df['Trial #'] == 1)\n",
    "df = merged_df[filter]\n",
    "df.tail()"
   ]
  },
  {
   "cell_type": "code",
   "execution_count": 7,
   "metadata": {},
   "outputs": [
    {
     "data": {
      "image/png": "[encoded data removed]",
      "text/plain": [
       "<Figure size 800x500 with 1 Axes>"
      ]
     },
     "metadata": {},
     "output_type": "display_data"
    }
   ],
   "source": [
    "# Create plot\n",
    "plt.figure(figsize=(8, 5))\n",
    "plt.scatter(df['Relative Timestamp'], df['FEC'], color='red', label='Scatter Plot')\n",
    "\n",
    "plt.xlabel('Time from CS Onset')\n",
    "plt.ylabel('Fraction Eyelid Closure')\n",
    "plt.title('FEC vs Time from CS Onset (ms)')\n",
    "plt.legend()\n",
    "plt.grid(True)\n",
    "plt.show()"
   ]
  },
  {
   "cell_type": "code",
   "execution_count": null,
   "metadata": {},
   "outputs": [],
   "source": []
  }
 ],
 "metadata": {
  "kernelspec": {
   "display_name": ".venv-mac",
   "language": "python",
   "name": "python3"
  },
  "language_info": {
   "codemirror_mode": {
    "name": "ipython",
    "version": 3
   },
   "file_extension": ".py",
   "mimetype": "text/x-python",
   "name": "python",
   "nbconvert_exporter": "python",
   "pygments_lexer": "ipython3",
   "version": "3.10.1"
  }
 },
 "nbformat": 4,
 "nbformat_minor": 4
}
